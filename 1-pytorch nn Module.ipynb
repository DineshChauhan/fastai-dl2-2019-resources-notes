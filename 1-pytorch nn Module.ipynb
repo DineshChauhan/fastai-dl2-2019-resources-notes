{
 "cells": [
  {
   "cell_type": "markdown",
   "metadata": {},
   "source": [
    "In this first part, I'll be trying to understand the design and implementation behind the pytorch nn.Module and how it ties in with fastai. In this section, I will be exploring basic neural net ops and how the pytorch modelling works. The dataset I am using is the KMNIST dataset which can be found [here](https://github.com/rois-codh/kmnist)"
   ]
  },
  {
   "cell_type": "markdown",
   "metadata": {},
   "source": [
    "First, some imports "
   ]
  },
  {
   "cell_type": "code",
   "execution_count": 1,
   "metadata": {},
   "outputs": [],
   "source": [
    "%load_ext autoreload\n",
    "%autoreload 2\n",
    "\n",
    "%matplotlib inline\n",
    "\n",
    "from pathlib import Path\n",
    "from IPython.core.debugger import set_trace\n",
    "from fastai import datasets\n",
    "import pickle, gzip, math, torch, matplotlib as mpl\n",
    "import matplotlib.pyplot as plt\n",
    "from torch import tensor, from_numpy, flatten\n",
    "import operator\n",
    "from functools import partial\n",
    "\n",
    "import pandas as pd"
   ]
  },
  {
   "cell_type": "markdown",
   "metadata": {},
   "source": [
    "We'll be starting with only the basics here (so no fancy packages). However, to work with kmnist more easily also import numpy"
   ]
  },
  {
   "cell_type": "code",
   "execution_count": 2,
   "metadata": {},
   "outputs": [],
   "source": [
    "import numpy as np"
   ]
  },
  {
   "cell_type": "code",
   "execution_count": 4,
   "metadata": {},
   "outputs": [],
   "source": [
    "DATA_DIR = Path(\"/Users/wwymak/computer-science-courses/kmnist\")"
   ]
  },
  {
   "cell_type": "code",
   "execution_count": 5,
   "metadata": {},
   "outputs": [],
   "source": [
    "X_train = np.load(DATA_DIR / \"kmnist-train-imgs.npz\")['arr_0'].astype('float')\n",
    "X_test = np.load( DATA_DIR / \"kmnist-test-imgs.npz\")['arr_0'].astype('float')\n",
    "y_train = np.load(DATA_DIR / \"kmnist-train-labels.npz\")['arr_0'].astype('float')\n",
    "y_test = np.load(DATA_DIR / \"kmnist-test-labels.npz\")['arr_0'].astype('float')"
   ]
  },
  {
   "cell_type": "markdown",
   "metadata": {},
   "source": [
    "We can also see the mapping between the class labels (0-9) and the actual characters"
   ]
  },
  {
   "cell_type": "code",
   "execution_count": 8,
   "metadata": {},
   "outputs": [
    {
     "data": {
      "text/html": [
       "<div>\n",
       "<style scoped>\n",
       "    .dataframe tbody tr th:only-of-type {\n",
       "        vertical-align: middle;\n",
       "    }\n",
       "\n",
       "    .dataframe tbody tr th {\n",
       "        vertical-align: top;\n",
       "    }\n",
       "\n",
       "    .dataframe thead th {\n",
       "        text-align: right;\n",
       "    }\n",
       "</style>\n",
       "<table border=\"1\" class=\"dataframe\">\n",
       "  <thead>\n",
       "    <tr style=\"text-align: right;\">\n",
       "      <th></th>\n",
       "      <th>index</th>\n",
       "      <th>codepoint</th>\n",
       "      <th>char</th>\n",
       "    </tr>\n",
       "  </thead>\n",
       "  <tbody>\n",
       "    <tr>\n",
       "      <th>0</th>\n",
       "      <td>0</td>\n",
       "      <td>U+304A</td>\n",
       "      <td>お</td>\n",
       "    </tr>\n",
       "    <tr>\n",
       "      <th>1</th>\n",
       "      <td>1</td>\n",
       "      <td>U+304D</td>\n",
       "      <td>き</td>\n",
       "    </tr>\n",
       "    <tr>\n",
       "      <th>2</th>\n",
       "      <td>2</td>\n",
       "      <td>U+3059</td>\n",
       "      <td>す</td>\n",
       "    </tr>\n",
       "    <tr>\n",
       "      <th>3</th>\n",
       "      <td>3</td>\n",
       "      <td>U+3064</td>\n",
       "      <td>つ</td>\n",
       "    </tr>\n",
       "    <tr>\n",
       "      <th>4</th>\n",
       "      <td>4</td>\n",
       "      <td>U+306A</td>\n",
       "      <td>な</td>\n",
       "    </tr>\n",
       "    <tr>\n",
       "      <th>5</th>\n",
       "      <td>5</td>\n",
       "      <td>U+306F</td>\n",
       "      <td>は</td>\n",
       "    </tr>\n",
       "    <tr>\n",
       "      <th>6</th>\n",
       "      <td>6</td>\n",
       "      <td>U+307E</td>\n",
       "      <td>ま</td>\n",
       "    </tr>\n",
       "    <tr>\n",
       "      <th>7</th>\n",
       "      <td>7</td>\n",
       "      <td>U+3084</td>\n",
       "      <td>や</td>\n",
       "    </tr>\n",
       "    <tr>\n",
       "      <th>8</th>\n",
       "      <td>8</td>\n",
       "      <td>U+308C</td>\n",
       "      <td>れ</td>\n",
       "    </tr>\n",
       "    <tr>\n",
       "      <th>9</th>\n",
       "      <td>9</td>\n",
       "      <td>U+3092</td>\n",
       "      <td>を</td>\n",
       "    </tr>\n",
       "  </tbody>\n",
       "</table>\n",
       "</div>"
      ],
      "text/plain": [
       "   index codepoint char\n",
       "0      0    U+304A    お\n",
       "1      1    U+304D    き\n",
       "2      2    U+3059    す\n",
       "3      3    U+3064    つ\n",
       "4      4    U+306A    な\n",
       "5      5    U+306F    は\n",
       "6      6    U+307E    ま\n",
       "7      7    U+3084    や\n",
       "8      8    U+308C    れ\n",
       "9      9    U+3092    を"
      ]
     },
     "execution_count": 8,
     "metadata": {},
     "output_type": "execute_result"
    }
   ],
   "source": [
    "char_mapping =pd.read_csv(\"/Users/wwymak/computer-science-courses/kmnist/kmnist_classmap.csv\")\n",
    "char_mapping"
   ]
  },
  {
   "cell_type": "markdown",
   "metadata": {},
   "source": [
    "KMNIST is in uint8 rather than float, with data in range 0 - 255:"
   ]
  },
  {
   "cell_type": "code",
   "execution_count": 7,
   "metadata": {},
   "outputs": [
    {
     "data": {
      "text/plain": [
       "(0.0, 255.0)"
      ]
     },
     "execution_count": 7,
     "metadata": {},
     "output_type": "execute_result"
    }
   ],
   "source": [
    "X_train.min(), X_train.max()"
   ]
  },
  {
   "cell_type": "markdown",
   "metadata": {},
   "source": [
    "Since we want to work with (mostly) pytorch, convert the inputs to pytorch tensors using the python native `map` function which does `map(func, iterable)` -> applies the `func` to all elements in iterable. Also to ensure that we get float tensors, we call `.float()` on the result pytorch tensors"
   ]
  },
  {
   "cell_type": "code",
   "execution_count": 9,
   "metadata": {},
   "outputs": [],
   "source": [
    "X_train, X_test, y_train, y_test = map(from_numpy, (X_train, X_test, y_train, y_test) )\n",
    "X_train, X_test, y_train, y_test= [x.float() for x in (X_train, X_test, y_train, y_test )]"
   ]
  },
  {
   "cell_type": "markdown",
   "metadata": {},
   "source": [
    "KMNIST is in the shape `[num_samples, 28, 28]` so convert to `[num_samples, 28*28]` to work with the following examples"
   ]
  },
  {
   "cell_type": "code",
   "execution_count": 11,
   "metadata": {},
   "outputs": [],
   "source": [
    "X_train = X_train.reshape([X_train.shape[0],-1])\n",
    "X_test = X_test.reshape([X_test.shape[0],-1])"
   ]
  },
  {
   "cell_type": "markdown",
   "metadata": {},
   "source": [
    "Let's grab a few characters to see what they look like before procedding further:"
   ]
  },
  {
   "cell_type": "code",
   "execution_count": 18,
   "metadata": {},
   "outputs": [],
   "source": [
    "def pytorch_rand_int(low, high):\n",
    "    \"\"\"\n",
    "    generate a random int between min and max using pytorch native funcs\n",
    "    \"\"\"\n",
    "    return torch.randint(low, high, size=(1,)).numpy()[0]"
   ]
  },
  {
   "cell_type": "code",
   "execution_count": 21,
   "metadata": {},
   "outputs": [
    {
     "data": {
      "image/png": "[encoded data removed]",
      "text/plain": [
       "<Figure size 864x288 with 3 Axes>"
      ]
     },
     "metadata": {
      "needs_background": "light"
     },
     "output_type": "display_data"
    }
   ],
   "source": [
    "plt.figure(figsize=(12,4))\n",
    "for i in range(1, 4):\n",
    "    ax = plt.subplot(1, 3, i)\n",
    "    random_sample = pytorch_rand_int(0, X_train.size()[0])\n",
    "    ax.imshow(X_train[random_sample].view(28, 28), cmap='gray')\n"
   ]
  },
  {
   "cell_type": "markdown",
   "metadata": {},
   "source": [
    "Next, we also want to normalise the data so e.g. illumniation does affect the output of the training/prediction. In normalistaion we rescale the samples so they have mean 0 and standard deviation of 1"
   ]
  },
  {
   "cell_type": "code",
   "execution_count": 22,
   "metadata": {},
   "outputs": [],
   "source": [
    "def normalise(x, mean, std):\n",
    "    return (x - mean) /std"
   ]
  },
  {
   "cell_type": "code",
   "execution_count": 23,
   "metadata": {},
   "outputs": [
    {
     "data": {
      "text/plain": [
       "(tensor(48.9312), tensor(88.8274))"
      ]
     },
     "execution_count": 23,
     "metadata": {},
     "output_type": "execute_result"
    }
   ],
   "source": [
    "train_mean = X_train.mean()\n",
    "train_std = X_train.std()\n",
    "train_mean, train_std"
   ]
  },
  {
   "cell_type": "markdown",
   "metadata": {},
   "source": [
    "Now let's normalise our train/test tensors. Note, we have to use the _train_ mean/std for the test set otherwise the network might be predicting on data that looks very different to the training set if e.g. the test set all have a much higher intensity"
   ]
  },
  {
   "cell_type": "code",
   "execution_count": 24,
   "metadata": {},
   "outputs": [],
   "source": [
    "X_train = normalise(X_train, train_mean, train_std)\n",
    "X_test = normalise(X_test, train_mean, train_std)"
   ]
  },
  {
   "cell_type": "markdown",
   "metadata": {},
   "source": [
    "Now if we recalculate the mean/std we should see them to be approx mean = 0, std = 1"
   ]
  },
  {
   "cell_type": "code",
   "execution_count": 25,
   "metadata": {},
   "outputs": [
    {
     "data": {
      "text/plain": [
       "(tensor(-0.0003), tensor(1.))"
      ]
     },
     "execution_count": 25,
     "metadata": {},
     "output_type": "execute_result"
    }
   ],
   "source": [
    "train_mean = X_train.mean()\n",
    "train_std = X_train.std()\n",
    "train_mean, train_std"
   ]
  },
  {
   "cell_type": "markdown",
   "metadata": {},
   "source": [
    "we can define a test for whether the number is more or less what we expect (due to computation, its usually never exactly 0.000 to an infinite amount of zeros..."
   ]
  },
  {
   "cell_type": "code",
   "execution_count": 26,
   "metadata": {},
   "outputs": [],
   "source": [
    "def test_near_zero(a, tolerance = 1e-3):\n",
    "    assert a.abs() < tolerance, f\"{a} not near zero\""
   ]
  },
  {
   "cell_type": "code",
   "execution_count": 27,
   "metadata": {},
   "outputs": [],
   "source": [
    "test_near_zero(train_mean)\n",
    "test_near_zero(1 - train_std)"
   ]
  },
  {
   "cell_type": "markdown",
   "metadata": {},
   "source": [
    "Let's check the dimensions of our tensors -- these should be `X_train = [60000, 784]` (we have 60k training samples) and `nclasses = 10`"
   ]
  },
  {
   "cell_type": "code",
   "execution_count": 28,
   "metadata": {},
   "outputs": [
    {
     "data": {
      "text/plain": [
       "(60000, 784, tensor(10.))"
      ]
     },
     "execution_count": 28,
     "metadata": {},
     "output_type": "execute_result"
    }
   ],
   "source": [
    "n, m = X_train.shape\n",
    "nclasses = y_train.max() + 1\n",
    "\n",
    "n, m, nclasses"
   ]
  },
  {
   "cell_type": "markdown",
   "metadata": {},
   "source": [
    "### basic neural net"
   ]
  },
  {
   "cell_type": "markdown",
   "metadata": {},
   "source": [
    "let's define a simple fully connected neural net with 1 hidden layer.  as per neural net definition, each layer is just a matrix multiplication of `W . x + b` for weight matrix `W` and bias `b`. In this most basic version, we will use MSE as the metric (ie the network acts as a regressor rather than the 'normal' classification.\n",
    "\n",
    "In the neural net training, we would ideally keep the mean/std of the result of each layer to be 0/1. This is to help the net train-- if the mean/std keeps on decreasing over the layers we get a vanishing gradient on backpropagation and if it keeps incresasing then we get to infinity very quickly..."
   ]
  },
  {
   "cell_type": "code",
   "execution_count": 29,
   "metadata": {},
   "outputs": [],
   "source": [
    "# number of neurons in the hidden layer:\n",
    "nh = 50"
   ]
  },
  {
   "cell_type": "markdown",
   "metadata": {},
   "source": [
    "by the rules of matrix multiplication, to get to nh hidden layers  W1 will have to be of shape (m, nh), and b1 shape nh, W2 have shape (nh, 1), b2 shape(1)\n",
    "\n",
    "Let's init the weight and biases. W1, W2, b1, and b2 are learned params, so they can be random -- b1 and b2 are zero since they are just additive const, but W1 and W2 can't be zero-- if they are, the whole network collapses, so init them with random weights."
   ]
  },
  {
   "cell_type": "code",
   "execution_count": 31,
   "metadata": {},
   "outputs": [],
   "source": [
    "# the sqrt(m) is the normalisation const for simplified version of kaiming init\n",
    "W1 = torch.randn(m, nh) / math.sqrt(m)\n",
    "W2 = torch.randn(nh, 1)/  math.sqrt(m)\n",
    "\n",
    "b1 = torch.zeros(nh)\n",
    "b2 = torch.zeros(1)"
   ]
  },
  {
   "cell_type": "markdown",
   "metadata": {},
   "source": [
    "now, let's check that we still get the desired mean = 0, std = 1 behavior with these random weights:"
   ]
  },
  {
   "cell_type": "code",
   "execution_count": 32,
   "metadata": {},
   "outputs": [
    {
     "data": {
      "text/plain": [
       "(tensor(-0.0003), tensor(1.))"
      ]
     },
     "execution_count": 32,
     "metadata": {},
     "output_type": "execute_result"
    }
   ],
   "source": [
    "# sanity check that our train has mean and std of 0, 1\n",
    "X_train.mean(), X_train.std()"
   ]
  },
  {
   "cell_type": "markdown",
   "metadata": {},
   "source": [
    "An operation through 1 layer neural net can be thought of as:"
   ]
  },
  {
   "cell_type": "code",
   "execution_count": 33,
   "metadata": {},
   "outputs": [],
   "source": [
    "def lin(X, w, b): \n",
    "    \"\"\"\n",
    "    X, w are tensors, b the bias vector. X@w is the matmul\n",
    "    \"\"\"\n",
    "    return X@w + b"
   ]
  },
  {
   "cell_type": "markdown",
   "metadata": {},
   "source": [
    "If we run X_test through the above layer, we get:"
   ]
  },
  {
   "cell_type": "code",
   "execution_count": 34,
   "metadata": {},
   "outputs": [
    {
     "data": {
      "text/plain": [
       "(tensor(-0.0274), tensor(1.0044))"
      ]
     },
     "execution_count": 34,
     "metadata": {},
     "output_type": "execute_result"
    }
   ],
   "source": [
    "t = lin(X_test.float(), W1.float(), b1.float())\n",
    "t.mean(), t.std()"
   ]
  },
  {
   "cell_type": "markdown",
   "metadata": {},
   "source": [
    "To get the non linearity in the neral net, there is usually an activation function. One of the most common types of activation in neural nets is the relu:"
   ]
  },
  {
   "cell_type": "code",
   "execution_count": 35,
   "metadata": {},
   "outputs": [],
   "source": [
    "def relu(x):\n",
    "    return x.clamp_min(0.)"
   ]
  },
  {
   "cell_type": "code",
   "execution_count": 100,
   "metadata": {},
   "outputs": [
    {
     "data": {
      "text/plain": [
       "(tensor(0.4020), tensor(0.5866))"
      ]
     },
     "execution_count": 100,
     "metadata": {},
     "output_type": "execute_result"
    }
   ],
   "source": [
    "# apply reul to t:\n",
    "t = relu(t)\n",
    "t.mean(), t.std()"
   ]
  },
  {
   "cell_type": "markdown",
   "metadata": {},
   "source": [
    "The mean and std are no longer near 0/ 1. This is because of the relu, in which we lost half of the input (anything -ve is zero). So the 'proper' init for relu is to take away a 0.5. As we can see, we're back in action with mean approx zero and std closer to 1\n"
   ]
  },
  {
   "cell_type": "code",
   "execution_count": 37,
   "metadata": {},
   "outputs": [
    {
     "data": {
      "text/plain": [
       "(tensor(0.0178), tensor(0.7813))"
      ]
     },
     "execution_count": 37,
     "metadata": {},
     "output_type": "execute_result"
    }
   ],
   "source": [
    "def general_relu(x, offset=-0.5):\n",
    "    return x.clamp_min(0.) - 0.5\n",
    "\n",
    "W1 = torch.randn(m,nh)*math.sqrt(2/m)\n",
    "t = general_relu(lin(X_test.float(), W1.float(), b1.float()))\n",
    "t.mean(), t.std()"
   ]
  },
  {
   "cell_type": "markdown",
   "metadata": {},
   "source": [
    "The Kaiming init method is implemented in Pytorch as [`torch.nn.init.kaiming_normal_`](https://github.com/pytorch/pytorch/blob/8868a4f20be52704df23d96bda8f600d349a6b9f/torch/nn/init.py#L295) / [`torch.nn.init.kaiming_uniform_`](https://github.com/pytorch/pytorch/blob/8868a4f20be52704df23d96bda8f600d349a6b9f/torch/nn/init.py#L260) "
   ]
  },
  {
   "cell_type": "code",
   "execution_count": 38,
   "metadata": {},
   "outputs": [],
   "source": [
    "from torch.nn import init"
   ]
  },
  {
   "cell_type": "code",
   "execution_count": 39,
   "metadata": {},
   "outputs": [
    {
     "data": {
      "text/plain": [
       "(tensor(0.0646), tensor(0.8102))"
      ]
     },
     "execution_count": 39,
     "metadata": {},
     "output_type": "execute_result"
    }
   ],
   "source": [
    "W1 = torch.randn(m,nh)\n",
    "init.kaiming_normal_(W1, mode='fan_out')\n",
    "t = general_relu(lin(X_test.float(), W1.float(), b1.float()))\n",
    "t.mean(), t.std()"
   ]
  },
  {
   "cell_type": "markdown",
   "metadata": {},
   "source": [
    "### Layers as classes\n",
    "\n",
    "Pytorch is fairly strongly OOP and we can define each layer as a class that we can resue. Each layer should have a forward pass method to calculate the loss and a backward pass for backpropagation.\n",
    "\n",
    "To make sense of the backward pass gradient calculations, we have to remember the chain rule in differentiation. \n",
    "\n",
    "e.g if the network has 3 layers, with `h -> g -> f`, the input `x` is transformed by `L = f(g(h(x)))`. \n",
    "\n",
    "So in backprop: `dL/dx = df/dg * dg/dh * dh/dx`. Thinking in terms of layers, if we take the middle layer as an example, the total gradient after backprop through that layer is `df/dg (out.grad)` multiplied by the `dg/dh` (current grad)\n",
    "\n",
    "A much more detailed explanation of backpropagation can be found from [cs231n](http://cs231n.github.io/optimization-2/)"
   ]
  },
  {
   "cell_type": "markdown",
   "metadata": {},
   "source": [
    "#### Vectorized grads intuitions"
   ]
  },
  {
   "cell_type": "code",
   "execution_count": 47,
   "metadata": {},
   "outputs": [],
   "source": [
    "W1 = torch.tensor([[1., 2., 3.], [4., 5., 6.]])\n",
    "x = torch.tensor([[1., 2.], [4., 5.]])\n",
    "b = torch.tensor([[1.], [1.]])"
   ]
  },
  {
   "cell_type": "markdown",
   "metadata": {},
   "source": [
    "Let's print out the shapes of these tensors"
   ]
  },
  {
   "cell_type": "code",
   "execution_count": 49,
   "metadata": {},
   "outputs": [
    {
     "data": {
      "text/plain": [
       "tensor([[ 9., 12., 15.],\n",
       "        [24., 33., 42.]])"
      ]
     },
     "execution_count": 49,
     "metadata": {},
     "output_type": "execute_result"
    }
   ],
   "source": [
    "x@W1"
   ]
  },
  {
   "cell_type": "code",
   "execution_count": 50,
   "metadata": {},
   "outputs": [
    {
     "data": {
      "text/plain": [
       "tensor([[10., 13., 16.],\n",
       "        [25., 34., 43.]])"
      ]
     },
     "execution_count": 50,
     "metadata": {},
     "output_type": "execute_result"
    }
   ],
   "source": [
    "x@W1 + b"
   ]
  },
  {
   "cell_type": "code",
   "execution_count": 53,
   "metadata": {},
   "outputs": [
    {
     "data": {
      "text/plain": [
       "torch.Size([2, 2])"
      ]
     },
     "execution_count": 53,
     "metadata": {},
     "output_type": "execute_result"
    }
   ],
   "source": [
    "x.size()"
   ]
  },
  {
   "cell_type": "code",
   "execution_count": 54,
   "metadata": {},
   "outputs": [
    {
     "data": {
      "text/plain": [
       "torch.Size([2, 3])"
      ]
     },
     "execution_count": 54,
     "metadata": {},
     "output_type": "execute_result"
    }
   ],
   "source": [
    "W1.size()"
   ]
  },
  {
   "cell_type": "code",
   "execution_count": 52,
   "metadata": {},
   "outputs": [
    {
     "data": {
      "text/plain": [
       "torch.Size([2, 3])"
      ]
     },
     "execution_count": 52,
     "metadata": {},
     "output_type": "execute_result"
    }
   ],
   "source": [
    "(x@W1).size()"
   ]
  },
  {
   "cell_type": "markdown",
   "metadata": {},
   "source": [
    "In a non tensor eq: `y = Wx + b`, `dy/dx = W`. However, if W and x are tensors it's a bit of a different story, and you have to be careful about the transpose. In the above example, the input has shape(2,2), and the output shape(2,3). the input gradient should have the same shape as the input, (2,2), and the grad of the output shape (2,3) \n",
    "which means  for `out_grad@W1` to work, W1 has to have shape(3,2), ie transpose of W1"
   ]
  },
  {
   "cell_type": "markdown",
   "metadata": {},
   "source": [
    "#### Layer defs\n",
    "We can define each common layer e.g. Relu/Linear as a class. By overriding the python `__call__` dunder method we can use a class like a function def e.g. `Relu(x)`. In each of the classes, we would like to do the backward propagation, which would update the input_grad with `grad_of_layer * grad_output_tensor`"
   ]
  },
  {
   "cell_type": "code",
   "execution_count": 42,
   "metadata": {},
   "outputs": [],
   "source": [
    "class Relu():\n",
    "    def __call__(self, inp):\n",
    "        self.inp = inp\n",
    "        self.out = inp.clamp_min(0.) - 0.5\n",
    "        return self.out\n",
    "    \n",
    "    def backward(self):\n",
    "#         relu has grad = 1 for x > 0 and 0 otherwise\n",
    "        self.inp.g = ( self.inp >0).float() * self.out.g \n",
    "    \n",
    "class Linear():\n",
    "    def __init__(self, w, b):\n",
    "        self.w = w\n",
    "        self.b = b\n",
    "        \n",
    "    def __call__(self, inp):\n",
    "        self.inp = inp\n",
    "        self.out = inp@self.w + self.b\n",
    "        return self.out\n",
    "        \n",
    "    def backward(self):\n",
    "        self.inp.g = self.out.g@self.w.t()\n",
    "        self.w.g = (self.inp.unsqueeze(-1) * self.out.g.unsqueeze(1)).sum(0)\n",
    "        self.b.g = self.out.g.sum(0)\n",
    "        \n",
    "class MSE():\n",
    "    def __call__(self, inp, target):\n",
    "        self.inp = inp\n",
    "        self.target = target\n",
    "        #mean squared error\n",
    "        self.out = (inp.squeeze() - self.target).pow(2).mean()\n",
    "        return self.out\n",
    "    \n",
    "    def backward(self):\n",
    "        # grad = 2 / n * (inp - target)\n",
    "        self.inp.g = 2. / self.target.shape[0] * (self.inp.squeeze() - self.target).unsqueeze(-1)\n",
    "                "
   ]
  },
  {
   "cell_type": "markdown",
   "metadata": {},
   "source": [
    "Finally, we can define our model:"
   ]
  },
  {
   "cell_type": "code",
   "execution_count": 55,
   "metadata": {},
   "outputs": [],
   "source": [
    "class Model():\n",
    "    def __init__(self, w1, b1, w2, b2):\n",
    "        self.layers = [Linear(w1, b1), Relu(), Linear(w2, b2)]\n",
    "        self.loss = MSE()\n",
    "    \n",
    "    def __call__(self, x, target):\n",
    "        for l in self.layers:\n",
    "            x = l(x)\n",
    "        return self.loss(x, target)\n",
    "    def backward(self):\n",
    "        self.loss.backward()\n",
    "        for l in reversed(self.layers):\n",
    "            l.backward()"
   ]
  },
  {
   "cell_type": "code",
   "execution_count": 56,
   "metadata": {},
   "outputs": [],
   "source": [
    "# define grad property for all the tensors\n",
    "W1.g, b1.g, W2.g, b2.g = [None] * 4\n",
    "model = Model(W1, b1, W2, b2)"
   ]
  },
  {
   "cell_type": "code",
   "execution_count": 134,
   "metadata": {},
   "outputs": [
    {
     "name": "stdout",
     "output_type": "stream",
     "text": [
      "CPU times: user 245 ms, sys: 10.3 ms, total: 255 ms\n",
      "Wall time: 96.8 ms\n"
     ]
    }
   ],
   "source": [
    "%time loss = model(X_train, y_train)"
   ]
  },
  {
   "cell_type": "code",
   "execution_count": 135,
   "metadata": {},
   "outputs": [
    {
     "data": {
      "text/plain": [
       "tensor(28.5553)"
      ]
     },
     "execution_count": 135,
     "metadata": {},
     "output_type": "execute_result"
    }
   ],
   "source": [
    "loss"
   ]
  },
  {
   "cell_type": "code",
   "execution_count": 136,
   "metadata": {},
   "outputs": [
    {
     "name": "stdout",
     "output_type": "stream",
     "text": [
      "CPU times: user 10.2 s, sys: 26.8 s, total: 37 s\n",
      "Wall time: 51.7 s\n"
     ]
    }
   ],
   "source": [
    "%time model.backward()"
   ]
  },
  {
   "cell_type": "code",
   "execution_count": 139,
   "metadata": {},
   "outputs": [
    {
     "data": {
      "text/plain": [
       "tensor([[-0.0249,  0.0350,  0.0115,  ..., -0.0283,  0.1063, -0.0074],\n",
       "        [-0.0247,  0.0347,  0.0114,  ..., -0.0281,  0.1049, -0.0073],\n",
       "        [-0.0244,  0.0343,  0.0112,  ..., -0.0277,  0.1029, -0.0072],\n",
       "        ...,\n",
       "        [-0.0242,  0.0318,  0.0105,  ..., -0.0262,  0.0967, -0.0066],\n",
       "        [-0.0246,  0.0337,  0.0109,  ..., -0.0271,  0.1007, -0.0071],\n",
       "        [-0.0250,  0.0349,  0.0113,  ..., -0.0281,  0.1049, -0.0073]])"
      ]
     },
     "execution_count": 139,
     "metadata": {},
     "output_type": "execute_result"
    }
   ],
   "source": [
    "W1.g"
   ]
  },
  {
   "cell_type": "markdown",
   "metadata": {},
   "source": [
    "Since each layer has the forward and backward methods, we can define a Module class with the forward and backward methods and have the layers inherit from it. \n",
    "\n",
    "In pytorch, this is the `nn.Module` class, which all layers etc in pytorch inherit. The linear, relu layers we defined above are also in pytorch (not the generalised relu though)\n",
    "\n",
    "In nn.Module, the forward method is not defined by default, but our model does not need to define it if we're not using it, e.g. in the following the forward is done by the layers not the model so we don't need to implement the `forward` in the `Model`"
   ]
  },
  {
   "cell_type": "code",
   "execution_count": 57,
   "metadata": {},
   "outputs": [],
   "source": [
    "from torch import nn"
   ]
  },
  {
   "cell_type": "code",
   "execution_count": 147,
   "metadata": {},
   "outputs": [],
   "source": [
    "nn.Module??"
   ]
  },
  {
   "cell_type": "code",
   "execution_count": 67,
   "metadata": {},
   "outputs": [],
   "source": [
    "# model redefined to inherit from nn.Module\n",
    "class Model(nn.Module):\n",
    "    def __init__(self, n_in, nh, n_out):\n",
    "        super().__init__()\n",
    "        self.layers = [nn.Linear(n_in, nh), nn.ReLU(), nn.Linear(nh, n_out)]\n",
    "        self.loss = nn.MSELoss()\n",
    "    def __call__(self, x, target):\n",
    "        for l in self.layers:\n",
    "            x = l(x)\n",
    "        return self.loss(x.squeeze(), target)"
   ]
  },
  {
   "cell_type": "code",
   "execution_count": 59,
   "metadata": {},
   "outputs": [],
   "source": [
    "model = Model(m, nh, 1)"
   ]
  },
  {
   "cell_type": "code",
   "execution_count": 179,
   "metadata": {},
   "outputs": [
    {
     "name": "stdout",
     "output_type": "stream",
     "text": [
      "CPU times: user 215 ms, sys: 12.6 ms, total: 228 ms\n",
      "Wall time: 130 ms\n"
     ]
    }
   ],
   "source": [
    "%time loss = model(X_train, y_train)"
   ]
  },
  {
   "cell_type": "code",
   "execution_count": 180,
   "metadata": {},
   "outputs": [
    {
     "name": "stdout",
     "output_type": "stream",
     "text": [
      "CPU times: user 184 ms, sys: 8.47 ms, total: 192 ms\n",
      "Wall time: 86.1 ms\n"
     ]
    }
   ],
   "source": [
    "#  in pytorch the backward is called from the loss which dloss/dx for every parameter x which has requires_grad=True\n",
    "%time loss.backward()"
   ]
  },
  {
   "cell_type": "code",
   "execution_count": null,
   "metadata": {},
   "outputs": [],
   "source": []
  }
 ],
 "metadata": {
  "kernelspec": {
   "display_name": "Python (fastai)",
   "language": "python",
   "name": "fastai"
  },
  "language_info": {
   "codemirror_mode": {
    "name": "ipython",
    "version": 3
   },
   "file_extension": ".py",
   "mimetype": "text/x-python",
   "name": "python",
   "nbconvert_exporter": "python",
   "pygments_lexer": "ipython3",
   "version": "3.7.3"
  }
 },
 "nbformat": 4,
 "nbformat_minor": 2
}
